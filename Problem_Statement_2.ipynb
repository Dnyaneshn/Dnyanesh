{
  "nbformat": 4,
  "nbformat_minor": 0,
  "metadata": {
    "colab": {
      "provenance": [],
      "authorship_tag": "ABX9TyNZLfVbDi4NGWttuhL+Gj/7",
      "include_colab_link": true
    },
    "kernelspec": {
      "name": "python3",
      "display_name": "Python 3"
    },
    "language_info": {
      "name": "python"
    }
  },
  "cells": [
    {
      "cell_type": "markdown",
      "metadata": {
        "id": "view-in-github",
        "colab_type": "text"
      },
      "source": [
        "<a href=\"https://colab.research.google.com/github/Dnyaneshn/Dnyanesh/blob/main/Problem_Statement_2.ipynb\" target=\"_parent\"><img src=\"https://colab.research.google.com/assets/colab-badge.svg\" alt=\"Open In Colab\"/></a>"
      ]
    },
    {
      "cell_type": "markdown",
      "source": [
        "# 2. Write a program that prompts the user to input number of calls and calculate the monthly telephone bills as per the following rule:\n",
        "\n",
        "● Minimum Rs. 200 for up to 100 calls.\n",
        "\n",
        "● Plus Rs. 0.60 per call for next 50 calls.\n",
        "\n",
        "● Plus Rs. 0.50 per call for next 50 calls.\n",
        "\n",
        "● Plus Rs. 0.40 per call for any call beyond 200 calls."
      ],
      "metadata": {
        "id": "2uos-VkxWyjQ"
      }
    },
    {
      "cell_type": "code",
      "execution_count": 1,
      "metadata": {
        "colab": {
          "base_uri": "https://localhost:8080/"
        },
        "id": "pC97P-s2WchN",
        "outputId": "a5974742-46f2-4094-89fb-6dd4f25e776b"
      },
      "outputs": [
        {
          "output_type": "stream",
          "name": "stdout",
          "text": [
            "Enter number of calls: 255\n",
            "Monthly telephone bill: Rs. 277.00\n"
          ]
        }
      ],
      "source": [
        "num_calls = int(input(\"Enter number of calls: \"))\n",
        "\n",
        "if num_calls <= 100:                                    # Minimum bill for up to 100 calls\n",
        "    bill = 200\n",
        "elif num_calls <= 150:                                  # charge_per_call_101_150 = 0.60\n",
        "    bill = 200 + 0.6 * (num_calls - 100)\n",
        "elif num_calls <= 200:                                  # charge_per_call_151_200 = 0.50\n",
        "    bill = 200 + 0.6 * 50 + 0.5 * (num_calls - 150)\n",
        "else:                                                   # charge_per_call_above_200 = 0.40\n",
        "    bill = 200 + 0.6 * 50 + 0.5 * 50 + 0.4 * (num_calls - 200)\n",
        "\n",
        "print(f\"Monthly telephone bill: Rs. {bill:.2f}\")"
      ]
    },
    {
      "cell_type": "code",
      "source": [],
      "metadata": {
        "id": "q0PU2TLcXU_V"
      },
      "execution_count": null,
      "outputs": []
    }
  ]
}