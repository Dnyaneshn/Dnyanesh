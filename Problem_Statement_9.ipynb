{
  "nbformat": 4,
  "nbformat_minor": 0,
  "metadata": {
    "colab": {
      "provenance": [],
      "authorship_tag": "ABX9TyPB2/85pNWXuEhpgHELvo7w",
      "include_colab_link": true
    },
    "kernelspec": {
      "name": "python3",
      "display_name": "Python 3"
    },
    "language_info": {
      "name": "python"
    }
  },
  "cells": [
    {
      "cell_type": "markdown",
      "metadata": {
        "id": "view-in-github",
        "colab_type": "text"
      },
      "source": [
        "<a href=\"https://colab.research.google.com/github/Dnyaneshn/Dnyanesh/blob/main/Problem_Statement_9.ipynb\" target=\"_parent\"><img src=\"https://colab.research.google.com/assets/colab-badge.svg\" alt=\"Open In Colab\"/></a>"
      ]
    },
    {
      "cell_type": "markdown",
      "source": [
        "# Challenge 4: Implement a Banking Account"
      ],
      "metadata": {
        "id": "e91ds8TEfAGX"
      }
    },
    {
      "cell_type": "code",
      "execution_count": 1,
      "metadata": {
        "id": "YJzwqE1Ie_XC"
      },
      "outputs": [],
      "source": [
        "class Account:\n",
        "    def __init__(self):\n",
        "        self.title = None\n",
        "        self.balance = 0\n",
        "\n",
        "class SavingsAccount(Account):\n",
        "    def __init__(self):\n",
        "        super().__init__()\n",
        "        self.interestRate = 0"
      ]
    },
    {
      "cell_type": "code",
      "source": [
        "class Account:\n",
        "    def __init__(self, title, balance):\n",
        "        self.title = title\n",
        "        self.balance = balance\n",
        "\n",
        "acct=Account(\"Ashish\", 5000)\n",
        "print(\"Account holder name : \", acct.title)\n",
        "print(\"Balance amount : \", acct.balance)"
      ],
      "metadata": {
        "colab": {
          "base_uri": "https://localhost:8080/"
        },
        "id": "d8ecRVXifDvW",
        "outputId": "e16ff84c-8f63-4fb3-8e82-c325e74346f2"
      },
      "execution_count": 6,
      "outputs": [
        {
          "output_type": "stream",
          "name": "stdout",
          "text": [
            "Account holder name :  Ashish\n",
            "Balance amount :  5000\n"
          ]
        }
      ]
    },
    {
      "cell_type": "code",
      "source": [
        "class Account:\n",
        "    def __init__(self, title, balance):\n",
        "        self.title = title\n",
        "        self.balance = balance\n",
        "\n",
        "class SavingsAccount(Account):\n",
        "    def __init__(self, title, balance, interestRate):\n",
        "        super().__init__(title, balance)\n",
        "        self.interestRate = interestRate"
      ],
      "metadata": {
        "id": "XAsa-YHjfJYb"
      },
      "execution_count": 3,
      "outputs": []
    },
    {
      "cell_type": "code",
      "source": [
        "saving=SavingsAccount(\"Ashish\", 5000,5)\n",
        "print(\"Account holder name : \", saving.title)\n",
        "print(\"Balance amount : \", saving.balance)\n",
        "print(\"Interest rate : \",saving.interestRate)"
      ],
      "metadata": {
        "colab": {
          "base_uri": "https://localhost:8080/"
        },
        "id": "YadqgiNOfL5v",
        "outputId": "edf42db0-162a-4f83-eb17-2bacb83cbbbd"
      },
      "execution_count": 7,
      "outputs": [
        {
          "output_type": "stream",
          "name": "stdout",
          "text": [
            "Account holder name :  Ashish\n",
            "Balance amount :  5000\n",
            "Interest rate :  5\n"
          ]
        }
      ]
    },
    {
      "cell_type": "code",
      "source": [],
      "metadata": {
        "id": "FGzzeEFTgKYQ"
      },
      "execution_count": null,
      "outputs": []
    }
  ]
}