{
  "nbformat": 4,
  "nbformat_minor": 0,
  "metadata": {
    "colab": {
      "provenance": [],
      "authorship_tag": "ABX9TyPaGkz83k1hK+YPrxOsmMm3",
      "include_colab_link": true
    },
    "kernelspec": {
      "name": "python3",
      "display_name": "Python 3"
    },
    "language_info": {
      "name": "python"
    }
  },
  "cells": [
    {
      "cell_type": "markdown",
      "metadata": {
        "id": "view-in-github",
        "colab_type": "text"
      },
      "source": [
        "<a href=\"https://colab.research.google.com/github/Dnyaneshn/Dnyanesh/blob/main/Problem_Statement_1.ipynb\" target=\"_parent\"><img src=\"https://colab.research.google.com/assets/colab-badge.svg\" alt=\"Open In Colab\"/></a>"
      ]
    },
    {
      "cell_type": "code",
      "execution_count": null,
      "metadata": {
        "id": "eNZY6S96VnSh"
      },
      "outputs": [],
      "source": []
    },
    {
      "cell_type": "markdown",
      "source": [
        "# 1. Write a program that computes the net amount of a bank account based on a transaction log from console input.\n",
        "The transaction log / sample input is in the format as shown below:\n",
        "\n",
        "Input log_message = D:100 W:10\n",
        "\n",
        "Output 90\n",
        "\n",
        "Input Log_message = D:100 W:200 D:400\n",
        "\n",
        "Output 300 (100 - 200 + 400 = 300)"
      ],
      "metadata": {
        "id": "vAjLU9gFVqK7"
      }
    },
    {
      "cell_type": "code",
      "source": [
        "log_message = input(\"Enter transaction log: \")\n",
        "transactions = log_message.split()\n",
        "balance = 0\n",
        "\n",
        "for transaction in transactions:\n",
        "    if transaction.startswith('D:'):\n",
        "        balance += int(transaction[2:])\n",
        "    elif transaction.startswith('W:'):\n",
        "        balance -= int(transaction[2:])\n",
        "\n",
        "print(balance)"
      ],
      "metadata": {
        "colab": {
          "base_uri": "https://localhost:8080/"
        },
        "id": "yYY4Zu6YVsuN",
        "outputId": "f511ffc2-38b3-46db-896e-7de0b6e63f4d"
      },
      "execution_count": 1,
      "outputs": [
        {
          "output_type": "stream",
          "name": "stdout",
          "text": [
            "Enter transaction log: D:100 W:200 D:400\n",
            "300\n"
          ]
        }
      ]
    },
    {
      "cell_type": "code",
      "source": [],
      "metadata": {
        "id": "17qk9LqOVvYd"
      },
      "execution_count": null,
      "outputs": []
    }
  ]
}