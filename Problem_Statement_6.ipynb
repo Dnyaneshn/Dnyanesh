{
  "nbformat": 4,
  "nbformat_minor": 0,
  "metadata": {
    "colab": {
      "provenance": [],
      "authorship_tag": "ABX9TyNH50XbvmFIIt8oBBwKkjHz",
      "include_colab_link": true
    },
    "kernelspec": {
      "name": "python3",
      "display_name": "Python 3"
    },
    "language_info": {
      "name": "python"
    }
  },
  "cells": [
    {
      "cell_type": "markdown",
      "metadata": {
        "id": "view-in-github",
        "colab_type": "text"
      },
      "source": [
        "<a href=\"https://colab.research.google.com/github/Dnyaneshn/Dnyanesh/blob/main/Problem_Statement_6.ipynb\" target=\"_parent\"><img src=\"https://colab.research.google.com/assets/colab-badge.svg\" alt=\"Open In Colab\"/></a>"
      ]
    },
    {
      "cell_type": "markdown",
      "source": [
        "For the Question number 6 to 10, please check out the following link:\n",
        "https://github.com/edyoda/DS-Assignments/blob/main/OOP_Assignment.md\n"
      ],
      "metadata": {
        "id": "g1986mqKdG91"
      }
    },
    {
      "cell_type": "markdown",
      "source": [
        "Challenge 1: Square Numbers and Return Their Sum\n",
        "Task 1: 👉 Implement a constructor to initialize the values of three properties: x, y, and z.\n",
        "\n",
        "Task 2: 👉 Implement a method, sqSum(), in the Point class which squares x, y, and z and returns their sum.\n",
        "\n",
        "Sample properties 1, 3, 5\n",
        "\n",
        "Sample method output 35"
      ],
      "metadata": {
        "id": "u-1AOkB0dOco"
      }
    },
    {
      "cell_type": "code",
      "execution_count": 3,
      "metadata": {
        "colab": {
          "base_uri": "https://localhost:8080/"
        },
        "id": "uMO5binOdFQ-",
        "outputId": "002d66c0-8564-408e-b863-ef53524d9a4a"
      },
      "outputs": [
        {
          "name": "stdout",
          "output_type": "stream",
          "text": [
            "Enter the number for x: 1\n",
            "Enter the number for y: 3\n",
            "Enter the number for z: 5\n"
          ]
        }
      ],
      "source": [
        "class Point:\n",
        "    def __init__(self):\n",
        "        self.x = x\n",
        "        self.y = y\n",
        "        self.z = z\n",
        "\n",
        "    def sqSum(self):\n",
        "        return self.x ** 2 , self.y ** 2 , self.z ** 2\n",
        "\n",
        "    def sum(self):\n",
        "        return self.x ** 2 + self.y ** 2 + self.z ** 2\n",
        "\n",
        "x = int(input(\"Enter the number for x: \"))\n",
        "y = int(input(\"Enter the number for y: \"))\n",
        "z = int(input(\"Enter the number for z: \"))"
      ]
    },
    {
      "cell_type": "code",
      "source": [
        "v = Point()\n",
        "result = v.sqSum()\n",
        "print(\"Square of numbers: \", v.sqSum())\n",
        "print(\"Sum of square numbers: \", v.sum())"
      ],
      "metadata": {
        "colab": {
          "base_uri": "https://localhost:8080/"
        },
        "id": "xmwVlKCQdXEo",
        "outputId": "aa86b86b-212e-40e9-a21c-9cfc6dfc58d1"
      },
      "execution_count": 4,
      "outputs": [
        {
          "output_type": "stream",
          "name": "stdout",
          "text": [
            "Square of numbers:  (1, 9, 25)\n",
            "Sum of square numbers:  35\n"
          ]
        }
      ]
    },
    {
      "cell_type": "code",
      "source": [],
      "metadata": {
        "id": "CrePbR8QdiD5"
      },
      "execution_count": null,
      "outputs": []
    }
  ]
}