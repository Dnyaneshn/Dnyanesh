{
  "nbformat": 4,
  "nbformat_minor": 0,
  "metadata": {
    "colab": {
      "provenance": [],
      "authorship_tag": "ABX9TyMGeDgs7ZtkVUHeWsE9macY",
      "include_colab_link": true
    },
    "kernelspec": {
      "name": "python3",
      "display_name": "Python 3"
    },
    "language_info": {
      "name": "python"
    }
  },
  "cells": [
    {
      "cell_type": "markdown",
      "metadata": {
        "id": "view-in-github",
        "colab_type": "text"
      },
      "source": [
        "<a href=\"https://colab.research.google.com/github/Dnyaneshn/Dnyanesh/blob/main/Problem_Statement_10.ipynb\" target=\"_parent\"><img src=\"https://colab.research.google.com/assets/colab-badge.svg\" alt=\"Open In Colab\"/></a>"
      ]
    },
    {
      "cell_type": "markdown",
      "source": [
        "# Challenge 5: Handling a Bank Account"
      ],
      "metadata": {
        "id": "2ArD-f5ZgeEw"
      }
    },
    {
      "cell_type": "code",
      "execution_count": 1,
      "metadata": {
        "id": "345hPJrDgbV3"
      },
      "outputs": [],
      "source": [
        "class Account:\n",
        "\n",
        "    def __init__(self, title=None, balance=0):\n",
        "        self.title = title\n",
        "        self.balance = balance\n",
        "\n",
        "    def withdrawal(self, amount):\n",
        "        self.balance-=amount\n",
        "\n",
        "    def deposit(self, amount):\n",
        "        self.balance+=amount\n",
        "\n",
        "    def getBalance(self):\n",
        "        return self.balance"
      ]
    },
    {
      "cell_type": "code",
      "source": [
        "class SavingsAccount(Account):\n",
        "\n",
        "    def __init__(self, title=None, balance=0, interestRate=0):\n",
        "            super().__init__(title, balance)\n",
        "            self.interestRate = interestRate\n",
        "\n",
        "    def interestAmount(self):\n",
        "        return(self.interestRate*self.getBalance())/100"
      ],
      "metadata": {
        "id": "WCD6TQ7egpqb"
      },
      "execution_count": 2,
      "outputs": []
    },
    {
      "cell_type": "code",
      "source": [
        "demo1 = SavingsAccount(\"Ashish\", 2000, 5)   # initializing a SavingsAccount object\n",
        "\n",
        "print(\"Account holder Name:\",demo1.title)\n",
        "print(\"Account Balance: \",demo1.getBalance())\n",
        "demo1.deposit(500)\n",
        "print(\"Account Balance after deposit: \",demo1.getBalance())\n",
        "demo1.withdrawal(100)\n",
        "print(f\"Account Balance after withdrawal: {demo1.getBalance()}\")\n",
        "print(f\"Interest for the balance amount : {demo1.interestAmount()}\")"
      ],
      "metadata": {
        "colab": {
          "base_uri": "https://localhost:8080/"
        },
        "id": "uPdWnUAXgtKz",
        "outputId": "5d10b809-2e77-46b6-db90-2ac3ce5b1a84"
      },
      "execution_count": 4,
      "outputs": [
        {
          "output_type": "stream",
          "name": "stdout",
          "text": [
            "Account holder Name: Ashish\n",
            "Account Balance:  2000\n",
            "Account Balance after deposit:  2500\n",
            "Account Balance after withdrawal: 2400\n",
            "Interest for the balance amount : 120.0\n"
          ]
        }
      ]
    },
    {
      "cell_type": "code",
      "source": [],
      "metadata": {
        "id": "t2DKP2crg2lW"
      },
      "execution_count": null,
      "outputs": []
    }
  ]
}