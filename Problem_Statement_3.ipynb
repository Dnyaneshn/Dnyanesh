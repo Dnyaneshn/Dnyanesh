{
  "nbformat": 4,
  "nbformat_minor": 0,
  "metadata": {
    "colab": {
      "provenance": [],
      "authorship_tag": "ABX9TyPAJYc7kjzaJWcP6CiWmiUM",
      "include_colab_link": true
    },
    "kernelspec": {
      "name": "python3",
      "display_name": "Python 3"
    },
    "language_info": {
      "name": "python"
    }
  },
  "cells": [
    {
      "cell_type": "markdown",
      "metadata": {
        "id": "view-in-github",
        "colab_type": "text"
      },
      "source": [
        "<a href=\"https://colab.research.google.com/github/Dnyaneshn/Dnyanesh/blob/main/Problem_Statement_3.ipynb\" target=\"_parent\"><img src=\"https://colab.research.google.com/assets/colab-badge.svg\" alt=\"Open In Colab\"/></a>"
      ]
    },
    {
      "cell_type": "markdown",
      "source": [
        "# 3. Write a Python function to sum all the numbers in a list.\n",
        "Sample List : [8, 2, 3, 0, 7]\n",
        "\n",
        "Expected Output : 20"
      ],
      "metadata": {
        "id": "xTvL5n7jXozi"
      }
    },
    {
      "cell_type": "code",
      "source": [
        "def sum_numbers(samplelist):\n",
        "    total = 0\n",
        "    for num in samplelist:\n",
        "        total += num\n",
        "    return total"
      ],
      "metadata": {
        "id": "fxNtrVlQXtNJ"
      },
      "execution_count": 1,
      "outputs": []
    },
    {
      "cell_type": "code",
      "source": [
        "samplelist = [8, 2, 3, 0, 7]\n",
        "result = sum_numbers(samplelist)\n",
        "print(result)"
      ],
      "metadata": {
        "colab": {
          "base_uri": "https://localhost:8080/"
        },
        "id": "yGicR2M_X-IL",
        "outputId": "ee022939-f563-4eeb-a893-4a56710748af"
      },
      "execution_count": 2,
      "outputs": [
        {
          "output_type": "stream",
          "name": "stdout",
          "text": [
            "20\n"
          ]
        }
      ]
    },
    {
      "cell_type": "code",
      "source": [],
      "metadata": {
        "id": "s2azK_ZpX-wE"
      },
      "execution_count": null,
      "outputs": []
    }
  ]
}