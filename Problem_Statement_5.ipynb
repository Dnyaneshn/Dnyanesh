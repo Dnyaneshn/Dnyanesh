{
  "nbformat": 4,
  "nbformat_minor": 0,
  "metadata": {
    "colab": {
      "provenance": [],
      "authorship_tag": "ABX9TyNIReUntkwlgkMwSCd6tJ4/",
      "include_colab_link": true
    },
    "kernelspec": {
      "name": "python3",
      "display_name": "Python 3"
    },
    "language_info": {
      "name": "python"
    }
  },
  "cells": [
    {
      "cell_type": "markdown",
      "metadata": {
        "id": "view-in-github",
        "colab_type": "text"
      },
      "source": [
        "<a href=\"https://colab.research.google.com/github/Dnyaneshn/Dnyanesh/blob/main/Problem_Statement_5.ipynb\" target=\"_parent\"><img src=\"https://colab.research.google.com/assets/colab-badge.svg\" alt=\"Open In Colab\"/></a>"
      ]
    },
    {
      "cell_type": "markdown",
      "source": [
        "# 5. Write a Python function that accepts a string and calculates the number ofuppercase letters and lower case letters.\n",
        "Sample String : 'The quick Brow Fox'\n",
        "\n",
        "Expected Output :\n",
        "\n",
        "No. of Upper case characters : 3\n",
        "\n",
        "No. of Lower case Characters : 12"
      ],
      "metadata": {
        "id": "88ES93sHccrD"
      }
    },
    {
      "cell_type": "code",
      "execution_count": 1,
      "metadata": {
        "colab": {
          "base_uri": "https://localhost:8080/"
        },
        "id": "u75dX05vcb-2",
        "outputId": "1b10dbea-64a5-4cd0-d466-120d09764b36"
      },
      "outputs": [
        {
          "output_type": "stream",
          "name": "stdout",
          "text": [
            "Input the string : 'The quick Brow Fox'\n",
            "No of Uppercase letters in string :  3\n",
            "No of Lowercase letters in string :  12\n"
          ]
        }
      ],
      "source": [
        "def upper_lower_count(input_string):\n",
        "  count_upper=0\n",
        "  count_lower=0\n",
        "  for i in input_string:\n",
        "    if i.isupper():\n",
        "      count_upper+=1\n",
        "    elif i.islower():\n",
        "        count_lower+=1\n",
        "  return count_upper,count_lower\n",
        "\n",
        "sample_string = input(\"Input the string : \")\n",
        "\n",
        "count_upper,count_lower=upper_lower_count(sample_string)\n",
        "print(\"No of Uppercase letters in string : \", count_upper)\n",
        "print(\"No of Lowercase letters in string : \", count_lower)"
      ]
    },
    {
      "cell_type": "code",
      "source": [],
      "metadata": {
        "id": "fPQZ9YaHcxRx"
      },
      "execution_count": null,
      "outputs": []
    }
  ]
}