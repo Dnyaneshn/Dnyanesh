{
  "nbformat": 4,
  "nbformat_minor": 0,
  "metadata": {
    "colab": {
      "provenance": [],
      "authorship_tag": "ABX9TyOJmcG73pT7yec4SqfcsjDN",
      "include_colab_link": true
    },
    "kernelspec": {
      "name": "python3",
      "display_name": "Python 3"
    },
    "language_info": {
      "name": "python"
    }
  },
  "cells": [
    {
      "cell_type": "markdown",
      "metadata": {
        "id": "view-in-github",
        "colab_type": "text"
      },
      "source": [
        "<a href=\"https://colab.research.google.com/github/Dnyaneshn/Dnyanesh/blob/main/Problem_Statement_8.ipynb\" target=\"_parent\"><img src=\"https://colab.research.google.com/assets/colab-badge.svg\" alt=\"Open In Colab\"/></a>"
      ]
    },
    {
      "cell_type": "markdown",
      "source": [
        "# Challenge 3: Implement the Complete Student Class"
      ],
      "metadata": {
        "id": "0U2kXiFveeO1"
      }
    },
    {
      "cell_type": "code",
      "execution_count": 1,
      "metadata": {
        "id": "1HF62SHZeaw9"
      },
      "outputs": [],
      "source": [
        "class Student:\n",
        "\n",
        "    def getName(self):\n",
        "        return self.__name\n",
        "    def setName(self,name):\n",
        "        self.__name=name\n",
        "    def getRollNumber(self):\n",
        "        return self.__rollnumber\n",
        "    def setRollNumber(self,rollnumber):\n",
        "        self.__rollnumber=rollnumber"
      ]
    },
    {
      "cell_type": "code",
      "source": [
        "std=Student()\n",
        "std.setName(\"Ravi\")\n",
        "print(\"Student name :\", std.getName())\n",
        "std=Student()\n",
        "std.setRollNumber(100)\n",
        "print(\"Rollnumber :\", std.getRollNumber())"
      ],
      "metadata": {
        "colab": {
          "base_uri": "https://localhost:8080/"
        },
        "id": "2pmIrZ9PenH9",
        "outputId": "d284425c-2e12-4e40-c7eb-df0ab68bfdce"
      },
      "execution_count": 2,
      "outputs": [
        {
          "output_type": "stream",
          "name": "stdout",
          "text": [
            "Student name : Ravi\n",
            "Rollnumber : 100\n"
          ]
        }
      ]
    },
    {
      "cell_type": "code",
      "source": [],
      "metadata": {
        "id": "rK-erKSweuy9"
      },
      "execution_count": null,
      "outputs": []
    }
  ]
}